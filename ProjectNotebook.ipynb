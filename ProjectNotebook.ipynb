{
 "cells": [
  {
   "cell_type": "code",
   "execution_count": null,
   "metadata": {},
   "outputs": [],
   "source": [
    "# Project Description"
   ]
  },
  {
   "cell_type": "markdown",
   "metadata": {},
   "source": [
    "My project is a choose your own adventure style game. I made campus the focus of my project because I've been missing it so much and I imagine myself on campus through this game. The daily occurances I used to dread are some of the things I find most memorable. \n",
    "\n",
    "The user is on campus and meets a fairy guardian who needs their help to save campus. The game takes in user options from choices of \"A\" or \"B\". In one case it asks for a raw input of the player's name. The player must defeat three bosses, one with the help of a special character. The player is also able to equip themselves with a weapon. The \"A\" or \"B\" choices progress the storyline, unless you run out of health. If a player takes damage twice then they will lose the game, but will be asked if they would like to play again. I structured this game by using functions that run sequentially. Each block contains a unique event with outcomes that utilize if else statements and then call upon other functions to progress the game.\n",
    "\n",
    "Acknowledgements:\n",
    "I used three assert statements as means to test different parts of my code. I implimented it this way because my project is input driven, making it hard to find a consistent way to test my ever changing code. They are embedded within my code. I did try to use three different assert methods to showcase the extent of my abilities.\n",
    "\n",
    "Are you up to the challenge of saving campus? I find that restarting and running the code yields the best response. I hope you enjoy playing!"
   ]
  },
  {
   "cell_type": "code",
   "execution_count": null,
   "metadata": {},
   "outputs": [],
   "source": [
    "import functions"
   ]
  },
  {
   "cell_type": "code",
   "execution_count": null,
   "metadata": {},
   "outputs": [],
   "source": [
    "## Extra Credit"
   ]
  },
  {
   "cell_type": "markdown",
   "metadata": {},
   "source": [
    "COGS 18 was my first ever coding experience. Enrolling in the class seemed daunting but along the way I am glad that I was able to learn essential skills to carry on to COGS 108. \n",
    "\n",
    "I felt overwhelmed and was stressing the whole duration of the project about making sure I hit all the requirements. I initially used Replit to create my project in order to see my code and output side by side. This helped me catch syntax errors and see which lines were throwing the errors. One error that I ran into and struggled to solve was when I assigned local and global variables. This required me to do additional research as it wasn't necessarily implemented in class, which I found difficult. Creating global variables that stored user input to call later was something I didn't want to compromise. I wanted to be able to ask for the user's name and store their weapon choice to create a personalized feel to the game. Furthermore I had to find ways to test my code without using pytests because it is an input driven code. This was especially true when I wanted to try to test my health status."
   ]
  },
  {
   "cell_type": "code",
   "execution_count": null,
   "metadata": {},
   "outputs": [],
   "source": [
    "## GitHub Link\n",
    "I was unsure how to submit the GitHub link to share for additional extra credit. I have it linked so that the grader may access it. \n",
    "https://github.com/grxcenguyen/Battle-Around-Campus"
   ]
  }
 ],
 "metadata": {
  "kernelspec": {
   "display_name": "Python 3",
   "language": "python",
   "name": "python3"
  },
  "language_info": {
   "codemirror_mode": {
    "name": "ipython",
    "version": 3
   },
   "file_extension": ".py",
   "mimetype": "text/x-python",
   "name": "python",
   "nbconvert_exporter": "python",
   "pygments_lexer": "ipython3",
   "version": "3.7.6"
  }
 },
 "nbformat": 4,
 "nbformat_minor": 4
}
